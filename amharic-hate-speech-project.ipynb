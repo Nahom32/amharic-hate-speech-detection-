{
 "cells": [
  {
   "cell_type": "code",
   "execution_count": 1,
   "id": "eeddb371",
   "metadata": {
    "_cell_guid": "b1076dfc-b9ad-4769-8c92-a6c4dae69d19",
    "_uuid": "8f2839f25d086af736a60e9eeb907d3b93b6e0e5",
    "execution": {
     "iopub.execute_input": "2024-01-10T03:27:31.073420Z",
     "iopub.status.busy": "2024-01-10T03:27:31.073035Z",
     "iopub.status.idle": "2024-01-10T03:27:31.422881Z",
     "shell.execute_reply": "2024-01-10T03:27:31.421447Z"
    },
    "papermill": {
     "duration": 0.359861,
     "end_time": "2024-01-10T03:27:31.425702",
     "exception": false,
     "start_time": "2024-01-10T03:27:31.065841",
     "status": "completed"
    },
    "tags": []
   },
   "outputs": [
    {
     "name": "stdout",
     "output_type": "stream",
     "text": [
      "/kaggle/input/hate-speech-dataset-amharic/Posts.txt\n",
      "/kaggle/input/hate-speech-dataset-amharic/Labels.txt\n"
     ]
    }
   ],
   "source": [
    "# This Python 3 environment comes with many helpful analytics libraries installed\n",
    "# It is defined by the kaggle/python Docker image: https://github.com/kaggle/docker-python\n",
    "# For example, here's several helpful packages to load\n",
    "\n",
    "import numpy as np # linear algebra\n",
    "import pandas as pd # data processing, CSV file I/O (e.g. pd.read_csv)\n",
    "\n",
    "# Input data files are available in the read-only \"../input/\" directory\n",
    "# For example, running this (by clicking run or pressing Shift+Enter) will list all files under the input directory\n",
    "\n",
    "import os\n",
    "for dirname, _, filenames in os.walk('/kaggle/input'):\n",
    "    for filename in filenames:\n",
    "        print(os.path.join(dirname, filename))\n",
    "\n",
    "# You can write up to 20GB to the current directory (/kaggle/working/) that gets preserved as output when you create a version using \"Save & Run All\" \n",
    "# You can also write temporary files to /kaggle/temp/, but they won't be saved outside of the current session"
   ]
  },
  {
   "cell_type": "markdown",
   "id": "8560a62f",
   "metadata": {
    "execution": {
     "iopub.execute_input": "2024-01-08T15:44:28.950406Z",
     "iopub.status.busy": "2024-01-08T15:44:28.949887Z",
     "iopub.status.idle": "2024-01-08T15:44:28.954957Z",
     "shell.execute_reply": "2024-01-08T15:44:28.953626Z",
     "shell.execute_reply.started": "2024-01-08T15:44:28.950357Z"
    },
    "papermill": {
     "duration": 0.005241,
     "end_time": "2024-01-10T03:27:31.436511",
     "exception": false,
     "start_time": "2024-01-10T03:27:31.431270",
     "status": "completed"
    },
    "tags": []
   },
   "source": [
    "## Data Reading Phase"
   ]
  },
  {
   "cell_type": "code",
   "execution_count": 2,
   "id": "f0f7fd2e",
   "metadata": {
    "execution": {
     "iopub.execute_input": "2024-01-10T03:27:31.447689Z",
     "iopub.status.busy": "2024-01-10T03:27:31.447170Z",
     "iopub.status.idle": "2024-01-10T03:27:31.664182Z",
     "shell.execute_reply": "2024-01-10T03:27:31.662535Z"
    },
    "papermill": {
     "duration": 0.226076,
     "end_time": "2024-01-10T03:27:31.667220",
     "exception": false,
     "start_time": "2024-01-10T03:27:31.441144",
     "status": "completed"
    },
    "tags": []
   },
   "outputs": [
    {
     "name": "stdout",
     "output_type": "stream",
     "text": [
      "30000\n",
      "30000\n",
      "                                                   0\n",
      "0  አስቀድሜ ጥያቄዬ በጨዋነት በውስጥ መስመር እንዲደርስዎ አድርጌ ፍትህን ለ...\n",
      "1   እነዚህን ወሳኝ ጉዳዮችን የሚያስፈፅም አካል እንዲቋቋምና ክትትል እንዲደ...\n",
      "2  የአማራ ህዝብ በአእምሮ ክንፉ ያልበረረበት ጥበብና ፍልስፍና ያልከፈተው የ...\n",
      "3  ከአማራ ህዝብ የሀገሪቱ ዘርፈ ብዙ እውቀት መንጭቶ የሞላበትከሙላቱም በመል...\n",
      "4  ዛሬ በየትኛውም መለኪያ ይሁን መመዘኛ ኢትዮጵያዊነት የሚንፀባረቀው በአማራ...\n",
      "      0\n",
      "0  Free\n",
      "1  Free\n",
      "2  Free\n",
      "3  Free\n",
      "4  Hate\n"
     ]
    }
   ],
   "source": [
    "corpus = pd.read_csv(\"/kaggle/input/hate-speech-dataset-amharic/Posts.txt\",header=None)\n",
    "label = pd.read_csv(\"/kaggle/input/hate-speech-dataset-amharic/Labels.txt\",header=None)\n",
    "label = label.replace(' Free', 'Free')\n",
    "label = label.replace('Free ', 'Free')\n",
    "label = label.replace(' Hate', 'Hate')\n",
    "label = label.replace('Hate ', 'Hate')\n",
    "\n",
    "\n",
    "\n",
    "\n",
    "\n",
    "print(len(corpus))\n",
    "print(len(label))\n",
    "\n",
    "\n",
    "print(corpus.head())\n",
    "print(label.head())"
   ]
  },
  {
   "cell_type": "code",
   "execution_count": 3,
   "id": "74baab21",
   "metadata": {
    "execution": {
     "iopub.execute_input": "2024-01-10T03:27:31.679913Z",
     "iopub.status.busy": "2024-01-10T03:27:31.679301Z",
     "iopub.status.idle": "2024-01-10T03:27:31.694115Z",
     "shell.execute_reply": "2024-01-10T03:27:31.693230Z"
    },
    "papermill": {
     "duration": 0.023327,
     "end_time": "2024-01-10T03:27:31.696049",
     "exception": false,
     "start_time": "2024-01-10T03:27:31.672722",
     "status": "completed"
    },
    "tags": []
   },
   "outputs": [
    {
     "data": {
      "text/html": [
       "<div>\n",
       "<style scoped>\n",
       "    .dataframe tbody tr th:only-of-type {\n",
       "        vertical-align: middle;\n",
       "    }\n",
       "\n",
       "    .dataframe tbody tr th {\n",
       "        vertical-align: top;\n",
       "    }\n",
       "\n",
       "    .dataframe thead th {\n",
       "        text-align: right;\n",
       "    }\n",
       "</style>\n",
       "<table border=\"1\" class=\"dataframe\">\n",
       "  <thead>\n",
       "    <tr style=\"text-align: right;\">\n",
       "      <th></th>\n",
       "      <th>sentences</th>\n",
       "      <th>labels</th>\n",
       "    </tr>\n",
       "  </thead>\n",
       "  <tbody>\n",
       "    <tr>\n",
       "      <th>0</th>\n",
       "      <td>አስቀድሜ ጥያቄዬ በጨዋነት በውስጥ መስመር እንዲደርስዎ አድርጌ ፍትህን ለ...</td>\n",
       "      <td>Free</td>\n",
       "    </tr>\n",
       "    <tr>\n",
       "      <th>1</th>\n",
       "      <td>እነዚህን ወሳኝ ጉዳዮችን የሚያስፈፅም አካል እንዲቋቋምና ክትትል እንዲደ...</td>\n",
       "      <td>Free</td>\n",
       "    </tr>\n",
       "    <tr>\n",
       "      <th>2</th>\n",
       "      <td>የአማራ ህዝብ በአእምሮ ክንፉ ያልበረረበት ጥበብና ፍልስፍና ያልከፈተው የ...</td>\n",
       "      <td>Free</td>\n",
       "    </tr>\n",
       "    <tr>\n",
       "      <th>3</th>\n",
       "      <td>ከአማራ ህዝብ የሀገሪቱ ዘርፈ ብዙ እውቀት መንጭቶ የሞላበትከሙላቱም በመል...</td>\n",
       "      <td>Free</td>\n",
       "    </tr>\n",
       "    <tr>\n",
       "      <th>4</th>\n",
       "      <td>ዛሬ በየትኛውም መለኪያ ይሁን መመዘኛ ኢትዮጵያዊነት የሚንፀባረቀው በአማራ...</td>\n",
       "      <td>Hate</td>\n",
       "    </tr>\n",
       "  </tbody>\n",
       "</table>\n",
       "</div>"
      ],
      "text/plain": [
       "                                           sentences labels\n",
       "0  አስቀድሜ ጥያቄዬ በጨዋነት በውስጥ መስመር እንዲደርስዎ አድርጌ ፍትህን ለ...   Free\n",
       "1   እነዚህን ወሳኝ ጉዳዮችን የሚያስፈፅም አካል እንዲቋቋምና ክትትል እንዲደ...   Free\n",
       "2  የአማራ ህዝብ በአእምሮ ክንፉ ያልበረረበት ጥበብና ፍልስፍና ያልከፈተው የ...   Free\n",
       "3  ከአማራ ህዝብ የሀገሪቱ ዘርፈ ብዙ እውቀት መንጭቶ የሞላበትከሙላቱም በመል...   Free\n",
       "4  ዛሬ በየትኛውም መለኪያ ይሁን መመዘኛ ኢትዮጵያዊነት የሚንፀባረቀው በአማራ...   Hate"
      ]
     },
     "execution_count": 3,
     "metadata": {},
     "output_type": "execute_result"
    }
   ],
   "source": [
    "merged_table = pd.DataFrame({'sentences': corpus[0], 'labels': label[0]},index = range(len(corpus)))\n",
    "merged_table.head()"
   ]
  },
  {
   "cell_type": "markdown",
   "id": "bdb88f60",
   "metadata": {
    "papermill": {
     "duration": 0.005156,
     "end_time": "2024-01-10T03:27:31.707629",
     "exception": false,
     "start_time": "2024-01-10T03:27:31.702473",
     "status": "completed"
    },
    "tags": []
   },
   "source": [
    "## Pre- Processing Phase"
   ]
  },
  {
   "cell_type": "code",
   "execution_count": 4,
   "id": "ed6470dd",
   "metadata": {
    "execution": {
     "iopub.execute_input": "2024-01-10T03:27:31.719907Z",
     "iopub.status.busy": "2024-01-10T03:27:31.719301Z",
     "iopub.status.idle": "2024-01-10T03:27:31.769796Z",
     "shell.execute_reply": "2024-01-10T03:27:31.769071Z"
    },
    "papermill": {
     "duration": 0.058835,
     "end_time": "2024-01-10T03:27:31.771544",
     "exception": false,
     "start_time": "2024-01-10T03:27:31.712709",
     "status": "completed"
    },
    "tags": []
   },
   "outputs": [
    {
     "data": {
      "text/html": [
       "<div>\n",
       "<style scoped>\n",
       "    .dataframe tbody tr th:only-of-type {\n",
       "        vertical-align: middle;\n",
       "    }\n",
       "\n",
       "    .dataframe tbody tr th {\n",
       "        vertical-align: top;\n",
       "    }\n",
       "\n",
       "    .dataframe thead th {\n",
       "        text-align: right;\n",
       "    }\n",
       "</style>\n",
       "<table border=\"1\" class=\"dataframe\">\n",
       "  <thead>\n",
       "    <tr style=\"text-align: right;\">\n",
       "      <th></th>\n",
       "      <th>sentences</th>\n",
       "      <th>labels</th>\n",
       "      <th>num_words</th>\n",
       "    </tr>\n",
       "  </thead>\n",
       "  <tbody>\n",
       "    <tr>\n",
       "      <th>0</th>\n",
       "      <td>አስቀድሜ ጥያቄዬ በጨዋነት በውስጥ መስመር እንዲደርስዎ አድርጌ ፍትህን ለ...</td>\n",
       "      <td>Free</td>\n",
       "      <td>63</td>\n",
       "    </tr>\n",
       "    <tr>\n",
       "      <th>1</th>\n",
       "      <td>እነዚህን ወሳኝ ጉዳዮችን የሚያስፈፅም አካል እንዲቋቋምና ክትትል እንዲደ...</td>\n",
       "      <td>Free</td>\n",
       "      <td>10</td>\n",
       "    </tr>\n",
       "    <tr>\n",
       "      <th>2</th>\n",
       "      <td>የአማራ ህዝብ በአእምሮ ክንፉ ያልበረረበት ጥበብና ፍልስፍና ያልከፈተው የ...</td>\n",
       "      <td>Free</td>\n",
       "      <td>19</td>\n",
       "    </tr>\n",
       "    <tr>\n",
       "      <th>3</th>\n",
       "      <td>ከአማራ ህዝብ የሀገሪቱ ዘርፈ ብዙ እውቀት መንጭቶ የሞላበትከሙላቱም በመል...</td>\n",
       "      <td>Free</td>\n",
       "      <td>23</td>\n",
       "    </tr>\n",
       "    <tr>\n",
       "      <th>4</th>\n",
       "      <td>ዛሬ በየትኛውም መለኪያ ይሁን መመዘኛ ኢትዮጵያዊነት የሚንፀባረቀው በአማራ...</td>\n",
       "      <td>Hate</td>\n",
       "      <td>25</td>\n",
       "    </tr>\n",
       "  </tbody>\n",
       "</table>\n",
       "</div>"
      ],
      "text/plain": [
       "                                           sentences labels  num_words\n",
       "0  አስቀድሜ ጥያቄዬ በጨዋነት በውስጥ መስመር እንዲደርስዎ አድርጌ ፍትህን ለ...   Free         63\n",
       "1   እነዚህን ወሳኝ ጉዳዮችን የሚያስፈፅም አካል እንዲቋቋምና ክትትል እንዲደ...   Free         10\n",
       "2  የአማራ ህዝብ በአእምሮ ክንፉ ያልበረረበት ጥበብና ፍልስፍና ያልከፈተው የ...   Free         19\n",
       "3  ከአማራ ህዝብ የሀገሪቱ ዘርፈ ብዙ እውቀት መንጭቶ የሞላበትከሙላቱም በመል...   Free         23\n",
       "4  ዛሬ በየትኛውም መለኪያ ይሁን መመዘኛ ኢትዮጵያዊነት የሚንፀባረቀው በአማራ...   Hate         25"
      ]
     },
     "execution_count": 4,
     "metadata": {},
     "output_type": "execute_result"
    }
   ],
   "source": [
    "## phase one adding num_words for simplicity of calculations\n",
    "merged_table['num_words'] = merged_table['sentences'].apply(lambda x: len(x.split()))\n",
    "merged_table.head()\n"
   ]
  },
  {
   "cell_type": "markdown",
   "id": "24d9286e",
   "metadata": {
    "papermill": {
     "duration": 0.005046,
     "end_time": "2024-01-10T03:27:31.782255",
     "exception": false,
     "start_time": "2024-01-10T03:27:31.777209",
     "status": "completed"
    },
    "tags": []
   },
   "source": [
    "### finding the most frequent number of words"
   ]
  },
  {
   "cell_type": "code",
   "execution_count": 5,
   "id": "57446033",
   "metadata": {
    "execution": {
     "iopub.execute_input": "2024-01-10T03:27:31.795069Z",
     "iopub.status.busy": "2024-01-10T03:27:31.794328Z",
     "iopub.status.idle": "2024-01-10T03:27:34.184799Z",
     "shell.execute_reply": "2024-01-10T03:27:34.183134Z"
    },
    "papermill": {
     "duration": 2.399479,
     "end_time": "2024-01-10T03:27:34.187097",
     "exception": false,
     "start_time": "2024-01-10T03:27:31.787618",
     "status": "completed"
    },
    "tags": []
   },
   "outputs": [
    {
     "data": {
      "image/png": "[encoded data removed]",
      "text/plain": [
       "<Figure size 640x480 with 1 Axes>"
      ]
     },
     "metadata": {},
     "output_type": "display_data"
    }
   ],
   "source": [
    "import matplotlib.pyplot as plt\n",
    "import seaborn as sns\n",
    "\n",
    "sns.set_palette('viridis')\n",
    "\n",
    "# Create a bar plot of the word count distribution with varying colors using seaborn\n",
    "sns.barplot(x=merged_table['num_words'].value_counts().index,\n",
    "            y=merged_table['num_words'].value_counts().sort_index(),\n",
    "            palette='viridis', edgecolor='black').set_xticklabels([])\n",
    "\n",
    "\n",
    "plt.title('Word Count Distribution')\n",
    "plt.xlabel('Number of Words')\n",
    "plt.ylabel('Frequency')\n",
    "plt.show()\n"
   ]
  },
  {
   "cell_type": "code",
   "execution_count": 6,
   "id": "e76216db",
   "metadata": {
    "execution": {
     "iopub.execute_input": "2024-01-10T03:27:34.200396Z",
     "iopub.status.busy": "2024-01-10T03:27:34.200057Z",
     "iopub.status.idle": "2024-01-10T03:27:34.217203Z",
     "shell.execute_reply": "2024-01-10T03:27:34.216175Z"
    },
    "papermill": {
     "duration": 0.026021,
     "end_time": "2024-01-10T03:27:34.219097",
     "exception": false,
     "start_time": "2024-01-10T03:27:34.193076",
     "status": "completed"
    },
    "tags": []
   },
   "outputs": [
    {
     "data": {
      "text/plain": [
       "28468"
      ]
     },
     "execution_count": 6,
     "metadata": {},
     "output_type": "execute_result"
    }
   ],
   "source": [
    "# using boolean masking to eliminate small word sentences so that they won't cause errors\n",
    "merged_table = merged_table[merged_table['num_words']> 2]\n",
    "merged_table = merged_table[merged_table['num_words']< 85]\n",
    "merged_table = merged_table[['sentences','num_words','labels']] \n",
    "len(merged_table)"
   ]
  },
  {
   "cell_type": "code",
   "execution_count": 7,
   "id": "7df1302c",
   "metadata": {
    "execution": {
     "iopub.execute_input": "2024-01-10T03:27:34.234567Z",
     "iopub.status.busy": "2024-01-10T03:27:34.234196Z",
     "iopub.status.idle": "2024-01-10T03:27:34.810098Z",
     "shell.execute_reply": "2024-01-10T03:27:34.808275Z"
    },
    "papermill": {
     "duration": 0.586784,
     "end_time": "2024-01-10T03:27:34.812561",
     "exception": false,
     "start_time": "2024-01-10T03:27:34.225777",
     "status": "completed"
    },
    "tags": []
   },
   "outputs": [
    {
     "data": {
      "image/png": "[encoded data removed]",
      "text/plain": [
       "<Figure size 640x480 with 1 Axes>"
      ]
     },
     "metadata": {},
     "output_type": "display_data"
    }
   ],
   "source": [
    "sns.set_palette('viridis')\n",
    "\n",
    "# Create a bar plot of the word count distribution with varying colors using seaborn\n",
    "sns.barplot(x=merged_table['num_words'].value_counts().index,\n",
    "            y=merged_table['num_words'].value_counts().sort_index(),\n",
    "            palette='viridis', edgecolor='black').set_xticklabels([])\n",
    "\n",
    "\n",
    "plt.title('Word Count Distribution')\n",
    "plt.xlabel('Number of Words')\n",
    "plt.ylabel('Frequency')\n",
    "plt.show()"
   ]
  },
  {
   "cell_type": "code",
   "execution_count": 8,
   "id": "bba0ba83",
   "metadata": {
    "execution": {
     "iopub.execute_input": "2024-01-10T03:27:34.826680Z",
     "iopub.status.busy": "2024-01-10T03:27:34.826318Z",
     "iopub.status.idle": "2024-01-10T03:27:34.838106Z",
     "shell.execute_reply": "2024-01-10T03:27:34.836799Z"
    },
    "papermill": {
     "duration": 0.022154,
     "end_time": "2024-01-10T03:27:34.840994",
     "exception": false,
     "start_time": "2024-01-10T03:27:34.818840",
     "status": "completed"
    },
    "tags": []
   },
   "outputs": [
    {
     "data": {
      "text/html": [
       "<div>\n",
       "<style scoped>\n",
       "    .dataframe tbody tr th:only-of-type {\n",
       "        vertical-align: middle;\n",
       "    }\n",
       "\n",
       "    .dataframe tbody tr th {\n",
       "        vertical-align: top;\n",
       "    }\n",
       "\n",
       "    .dataframe thead th {\n",
       "        text-align: right;\n",
       "    }\n",
       "</style>\n",
       "<table border=\"1\" class=\"dataframe\">\n",
       "  <thead>\n",
       "    <tr style=\"text-align: right;\">\n",
       "      <th></th>\n",
       "      <th>sentences</th>\n",
       "      <th>num_words</th>\n",
       "      <th>labels</th>\n",
       "    </tr>\n",
       "  </thead>\n",
       "  <tbody>\n",
       "    <tr>\n",
       "      <th>0</th>\n",
       "      <td>አስቀድሜ ጥያቄዬ በጨዋነት በውስጥ መስመር እንዲደርስዎ አድርጌ ፍትህን ለ...</td>\n",
       "      <td>63</td>\n",
       "      <td>Free</td>\n",
       "    </tr>\n",
       "    <tr>\n",
       "      <th>1</th>\n",
       "      <td>እነዚህን ወሳኝ ጉዳዮችን የሚያስፈፅም አካል እንዲቋቋምና ክትትል እንዲደ...</td>\n",
       "      <td>10</td>\n",
       "      <td>Free</td>\n",
       "    </tr>\n",
       "    <tr>\n",
       "      <th>2</th>\n",
       "      <td>የአማራ ህዝብ በአእምሮ ክንፉ ያልበረረበት ጥበብና ፍልስፍና ያልከፈተው የ...</td>\n",
       "      <td>19</td>\n",
       "      <td>Free</td>\n",
       "    </tr>\n",
       "    <tr>\n",
       "      <th>3</th>\n",
       "      <td>ከአማራ ህዝብ የሀገሪቱ ዘርፈ ብዙ እውቀት መንጭቶ የሞላበትከሙላቱም በመል...</td>\n",
       "      <td>23</td>\n",
       "      <td>Free</td>\n",
       "    </tr>\n",
       "    <tr>\n",
       "      <th>4</th>\n",
       "      <td>ዛሬ በየትኛውም መለኪያ ይሁን መመዘኛ ኢትዮጵያዊነት የሚንፀባረቀው በአማራ...</td>\n",
       "      <td>25</td>\n",
       "      <td>Hate</td>\n",
       "    </tr>\n",
       "  </tbody>\n",
       "</table>\n",
       "</div>"
      ],
      "text/plain": [
       "                                           sentences  num_words labels\n",
       "0  አስቀድሜ ጥያቄዬ በጨዋነት በውስጥ መስመር እንዲደርስዎ አድርጌ ፍትህን ለ...         63   Free\n",
       "1   እነዚህን ወሳኝ ጉዳዮችን የሚያስፈፅም አካል እንዲቋቋምና ክትትል እንዲደ...         10   Free\n",
       "2  የአማራ ህዝብ በአእምሮ ክንፉ ያልበረረበት ጥበብና ፍልስፍና ያልከፈተው የ...         19   Free\n",
       "3  ከአማራ ህዝብ የሀገሪቱ ዘርፈ ብዙ እውቀት መንጭቶ የሞላበትከሙላቱም በመል...         23   Free\n",
       "4  ዛሬ በየትኛውም መለኪያ ይሁን መመዘኛ ኢትዮጵያዊነት የሚንፀባረቀው በአማራ...         25   Hate"
      ]
     },
     "execution_count": 8,
     "metadata": {},
     "output_type": "execute_result"
    }
   ],
   "source": [
    "merged_table.head()"
   ]
  },
  {
   "cell_type": "markdown",
   "id": "b282043b",
   "metadata": {
    "papermill": {
     "duration": 0.00602,
     "end_time": "2024-01-10T03:27:34.853570",
     "exception": false,
     "start_time": "2024-01-10T03:27:34.847550",
     "status": "completed"
    },
    "tags": []
   },
   "source": [
    "## number of labels across the training set"
   ]
  },
  {
   "cell_type": "code",
   "execution_count": 9,
   "id": "a03e7d2b",
   "metadata": {
    "execution": {
     "iopub.execute_input": "2024-01-10T03:27:34.867723Z",
     "iopub.status.busy": "2024-01-10T03:27:34.867361Z",
     "iopub.status.idle": "2024-01-10T03:27:35.201556Z",
     "shell.execute_reply": "2024-01-10T03:27:35.199862Z"
    },
    "papermill": {
     "duration": 0.344611,
     "end_time": "2024-01-10T03:27:35.204460",
     "exception": false,
     "start_time": "2024-01-10T03:27:34.859849",
     "status": "completed"
    },
    "tags": []
   },
   "outputs": [
    {
     "data": {
      "text/plain": [
       "<Axes: xlabel='labels'>"
      ]
     },
     "execution_count": 9,
     "metadata": {},
     "output_type": "execute_result"
    },
    {
     "data": {
      "image/png": "[encoded data removed]",
      "text/plain": [
       "<Figure size 640x480 with 1 Axes>"
      ]
     },
     "metadata": {},
     "output_type": "display_data"
    }
   ],
   "source": [
    "merged_table['labels'].value_counts().plot(kind=\"bar\")"
   ]
  },
  {
   "cell_type": "code",
   "execution_count": 10,
   "id": "1ea0bb48",
   "metadata": {
    "execution": {
     "iopub.execute_input": "2024-01-10T03:27:35.220518Z",
     "iopub.status.busy": "2024-01-10T03:27:35.220144Z",
     "iopub.status.idle": "2024-01-10T03:27:35.233131Z",
     "shell.execute_reply": "2024-01-10T03:27:35.232180Z"
    },
    "papermill": {
     "duration": 0.024058,
     "end_time": "2024-01-10T03:27:35.235810",
     "exception": false,
     "start_time": "2024-01-10T03:27:35.211752",
     "status": "completed"
    },
    "tags": []
   },
   "outputs": [
    {
     "data": {
      "text/html": [
       "<div>\n",
       "<style scoped>\n",
       "    .dataframe tbody tr th:only-of-type {\n",
       "        vertical-align: middle;\n",
       "    }\n",
       "\n",
       "    .dataframe tbody tr th {\n",
       "        vertical-align: top;\n",
       "    }\n",
       "\n",
       "    .dataframe thead th {\n",
       "        text-align: right;\n",
       "    }\n",
       "</style>\n",
       "<table border=\"1\" class=\"dataframe\">\n",
       "  <thead>\n",
       "    <tr style=\"text-align: right;\">\n",
       "      <th></th>\n",
       "      <th>sentences</th>\n",
       "      <th>labels</th>\n",
       "    </tr>\n",
       "  </thead>\n",
       "  <tbody>\n",
       "    <tr>\n",
       "      <th>0</th>\n",
       "      <td>አስቀድሜ ጥያቄዬ በጨዋነት በውስጥ መስመር እንዲደርስዎ አድርጌ ፍትህን ለ...</td>\n",
       "      <td>Free</td>\n",
       "    </tr>\n",
       "    <tr>\n",
       "      <th>1</th>\n",
       "      <td>እነዚህን ወሳኝ ጉዳዮችን የሚያስፈፅም አካል እንዲቋቋምና ክትትል እንዲደ...</td>\n",
       "      <td>Free</td>\n",
       "    </tr>\n",
       "    <tr>\n",
       "      <th>2</th>\n",
       "      <td>የአማራ ህዝብ በአእምሮ ክንፉ ያልበረረበት ጥበብና ፍልስፍና ያልከፈተው የ...</td>\n",
       "      <td>Free</td>\n",
       "    </tr>\n",
       "    <tr>\n",
       "      <th>3</th>\n",
       "      <td>ከአማራ ህዝብ የሀገሪቱ ዘርፈ ብዙ እውቀት መንጭቶ የሞላበትከሙላቱም በመል...</td>\n",
       "      <td>Free</td>\n",
       "    </tr>\n",
       "    <tr>\n",
       "      <th>4</th>\n",
       "      <td>ዛሬ በየትኛውም መለኪያ ይሁን መመዘኛ ኢትዮጵያዊነት የሚንፀባረቀው በአማራ...</td>\n",
       "      <td>Hate</td>\n",
       "    </tr>\n",
       "  </tbody>\n",
       "</table>\n",
       "</div>"
      ],
      "text/plain": [
       "                                           sentences labels\n",
       "0  አስቀድሜ ጥያቄዬ በጨዋነት በውስጥ መስመር እንዲደርስዎ አድርጌ ፍትህን ለ...   Free\n",
       "1   እነዚህን ወሳኝ ጉዳዮችን የሚያስፈፅም አካል እንዲቋቋምና ክትትል እንዲደ...   Free\n",
       "2  የአማራ ህዝብ በአእምሮ ክንፉ ያልበረረበት ጥበብና ፍልስፍና ያልከፈተው የ...   Free\n",
       "3  ከአማራ ህዝብ የሀገሪቱ ዘርፈ ብዙ እውቀት መንጭቶ የሞላበትከሙላቱም በመል...   Free\n",
       "4  ዛሬ በየትኛውም መለኪያ ይሁን መመዘኛ ኢትዮጵያዊነት የሚንፀባረቀው በአማራ...   Hate"
      ]
     },
     "execution_count": 10,
     "metadata": {},
     "output_type": "execute_result"
    }
   ],
   "source": [
    "merged_table = merged_table[['sentences','labels']]\n",
    "merged_table.head()"
   ]
  },
  {
   "cell_type": "code",
   "execution_count": 11,
   "id": "3464f399",
   "metadata": {
    "execution": {
     "iopub.execute_input": "2024-01-10T03:27:35.252707Z",
     "iopub.status.busy": "2024-01-10T03:27:35.252276Z",
     "iopub.status.idle": "2024-01-10T03:27:48.985834Z",
     "shell.execute_reply": "2024-01-10T03:27:48.984755Z"
    },
    "papermill": {
     "duration": 13.744555,
     "end_time": "2024-01-10T03:27:48.988325",
     "exception": false,
     "start_time": "2024-01-10T03:27:35.243770",
     "status": "completed"
    },
    "tags": []
   },
   "outputs": [],
   "source": [
    "import tensorflow as tf\n",
    "from sklearn.model_selection import train_test_split\n",
    "from sklearn.preprocessing import LabelEncoder\n",
    "from tensorflow.keras.preprocessing.text import Tokenizer\n",
    "from tensorflow.keras.preprocessing.sequence import pad_sequences\n",
    "from tensorflow.keras.models import Sequential\n",
    "from tensorflow.keras.layers import Embedding, LSTM, Dense, Dropout, Conv1D, MaxPooling1D, GlobalMaxPooling1D\n",
    "\n"
   ]
  },
  {
   "cell_type": "markdown",
   "id": "9439af80",
   "metadata": {
    "papermill": {
     "duration": 0.006634,
     "end_time": "2024-01-10T03:27:49.002196",
     "exception": false,
     "start_time": "2024-01-10T03:27:48.995562",
     "status": "completed"
    },
    "tags": []
   },
   "source": [
    "### Train Test Split for the data"
   ]
  },
  {
   "cell_type": "code",
   "execution_count": 12,
   "id": "5d76d377",
   "metadata": {
    "execution": {
     "iopub.execute_input": "2024-01-10T03:27:49.018095Z",
     "iopub.status.busy": "2024-01-10T03:27:49.017442Z",
     "iopub.status.idle": "2024-01-10T03:27:51.090628Z",
     "shell.execute_reply": "2024-01-10T03:27:51.089609Z"
    },
    "papermill": {
     "duration": 2.083956,
     "end_time": "2024-01-10T03:27:51.093105",
     "exception": false,
     "start_time": "2024-01-10T03:27:49.009149",
     "status": "completed"
    },
    "tags": []
   },
   "outputs": [],
   "source": [
    "corpus = merged_table[\"sentences\"].values\n",
    "labels = merged_table[\"labels\"].values\n",
    "label_encoder = LabelEncoder()\n",
    "labelsencoded = label_encoder.fit_transform(labels)\n",
    "tokenizer = Tokenizer(num_words=5000, oov_token=\"<OOV>\")\n",
    "tokenizer.fit_on_texts(corpus)\n",
    "sequences = tokenizer.texts_to_sequences(corpus)\n",
    "padded_sequences = pad_sequences(sequences, maxlen=100, padding='post', truncating='post')\n",
    "X_train, X_test, y_train, y_test = train_test_split(padded_sequences, labelsencoded, test_size=0.2, random_state=42)\n",
    "\n"
   ]
  },
  {
   "cell_type": "markdown",
   "id": "efcc3100",
   "metadata": {
    "papermill": {
     "duration": 0.006344,
     "end_time": "2024-01-10T03:27:51.106468",
     "exception": false,
     "start_time": "2024-01-10T03:27:51.100124",
     "status": "completed"
    },
    "tags": []
   },
   "source": [
    "### Model Building using RNN (Recurrent Neural Networks)"
   ]
  },
  {
   "cell_type": "code",
   "execution_count": 13,
   "id": "3e9eec10",
   "metadata": {
    "execution": {
     "iopub.execute_input": "2024-01-10T03:27:51.121435Z",
     "iopub.status.busy": "2024-01-10T03:27:51.121034Z",
     "iopub.status.idle": "2024-01-10T03:43:15.554313Z",
     "shell.execute_reply": "2024-01-10T03:43:15.552746Z"
    },
    "papermill": {
     "duration": 924.443563,
     "end_time": "2024-01-10T03:43:15.556461",
     "exception": false,
     "start_time": "2024-01-10T03:27:51.112898",
     "status": "completed"
    },
    "tags": []
   },
   "outputs": [
    {
     "name": "stdout",
     "output_type": "stream",
     "text": [
      "Model: \"sequential\"\n",
      "_________________________________________________________________\n",
      " Layer (type)                Output Shape              Param #   \n",
      "=================================================================\n",
      " embedding (Embedding)       (None, 100, 64)           320000    \n",
      "                                                                 \n",
      " lstm (LSTM)                 (None, 64)                33024     \n",
      "                                                                 \n",
      " dense (Dense)               (None, 1)                 65        \n",
      "                                                                 \n",
      "=================================================================\n",
      "Total params: 353089 (1.35 MB)\n",
      "Trainable params: 353089 (1.35 MB)\n",
      "Non-trainable params: 0 (0.00 Byte)\n",
      "_________________________________________________________________\n",
      "Epoch 1/30\n",
      "641/641 [==============================] - 33s 47ms/step - loss: 0.6932 - accuracy: 0.5055 - val_loss: 0.6940 - val_accuracy: 0.4947\n",
      "Epoch 2/30\n",
      "641/641 [==============================] - 31s 48ms/step - loss: 0.6931 - accuracy: 0.5047 - val_loss: 0.6934 - val_accuracy: 0.4947\n",
      "Epoch 3/30\n",
      "641/641 [==============================] - 31s 49ms/step - loss: 0.6931 - accuracy: 0.5076 - val_loss: 0.6932 - val_accuracy: 0.4947\n",
      "Epoch 4/30\n",
      "641/641 [==============================] - 31s 49ms/step - loss: 0.6931 - accuracy: 0.5058 - val_loss: 0.6933 - val_accuracy: 0.4947\n",
      "Epoch 5/30\n",
      "641/641 [==============================] - 33s 51ms/step - loss: 0.6931 - accuracy: 0.5070 - val_loss: 0.6933 - val_accuracy: 0.4947\n",
      "Epoch 6/30\n",
      "641/641 [==============================] - 32s 50ms/step - loss: 0.6931 - accuracy: 0.5077 - val_loss: 0.6931 - val_accuracy: 0.5053\n",
      "Epoch 7/30\n",
      "641/641 [==============================] - 33s 51ms/step - loss: 0.6931 - accuracy: 0.5057 - val_loss: 0.6934 - val_accuracy: 0.4947\n",
      "Epoch 8/30\n",
      "641/641 [==============================] - 32s 50ms/step - loss: 0.6931 - accuracy: 0.5076 - val_loss: 0.6933 - val_accuracy: 0.4947\n",
      "Epoch 9/30\n",
      "641/641 [==============================] - 32s 50ms/step - loss: 0.6931 - accuracy: 0.5066 - val_loss: 0.6936 - val_accuracy: 0.4947\n",
      "Epoch 10/30\n",
      "641/641 [==============================] - 31s 49ms/step - loss: 0.6931 - accuracy: 0.5076 - val_loss: 0.6936 - val_accuracy: 0.4947\n",
      "Epoch 11/30\n",
      "641/641 [==============================] - 30s 47ms/step - loss: 0.6931 - accuracy: 0.5076 - val_loss: 0.6934 - val_accuracy: 0.4947\n",
      "Epoch 12/30\n",
      "641/641 [==============================] - 31s 48ms/step - loss: 0.6931 - accuracy: 0.5076 - val_loss: 0.6934 - val_accuracy: 0.4947\n",
      "Epoch 13/30\n",
      "641/641 [==============================] - 30s 47ms/step - loss: 0.6931 - accuracy: 0.5062 - val_loss: 0.6935 - val_accuracy: 0.4947\n",
      "Epoch 14/30\n",
      "641/641 [==============================] - 30s 46ms/step - loss: 0.6931 - accuracy: 0.5076 - val_loss: 0.6934 - val_accuracy: 0.4947\n",
      "Epoch 15/30\n",
      "641/641 [==============================] - 30s 47ms/step - loss: 0.6931 - accuracy: 0.5076 - val_loss: 0.6933 - val_accuracy: 0.4947\n",
      "Epoch 16/30\n",
      "641/641 [==============================] - 30s 47ms/step - loss: 0.6931 - accuracy: 0.5071 - val_loss: 0.6934 - val_accuracy: 0.4947\n",
      "Epoch 17/30\n",
      "641/641 [==============================] - 30s 47ms/step - loss: 0.6931 - accuracy: 0.5076 - val_loss: 0.6934 - val_accuracy: 0.4947\n",
      "Epoch 18/30\n",
      "641/641 [==============================] - 31s 49ms/step - loss: 0.6931 - accuracy: 0.5076 - val_loss: 0.6935 - val_accuracy: 0.4947\n",
      "Epoch 19/30\n",
      "641/641 [==============================] - 30s 47ms/step - loss: 0.6931 - accuracy: 0.5076 - val_loss: 0.6936 - val_accuracy: 0.4947\n",
      "Epoch 20/30\n",
      "641/641 [==============================] - 30s 47ms/step - loss: 0.6931 - accuracy: 0.5076 - val_loss: 0.6935 - val_accuracy: 0.4947\n",
      "Epoch 21/30\n",
      "641/641 [==============================] - 30s 46ms/step - loss: 0.6931 - accuracy: 0.5076 - val_loss: 0.6934 - val_accuracy: 0.4947\n",
      "Epoch 22/30\n",
      "641/641 [==============================] - 30s 47ms/step - loss: 0.6931 - accuracy: 0.5076 - val_loss: 0.6934 - val_accuracy: 0.4947\n",
      "Epoch 23/30\n",
      "641/641 [==============================] - 30s 47ms/step - loss: 0.6931 - accuracy: 0.5076 - val_loss: 0.6934 - val_accuracy: 0.4947\n",
      "Epoch 24/30\n",
      "641/641 [==============================] - 30s 47ms/step - loss: 0.6931 - accuracy: 0.5076 - val_loss: 0.6935 - val_accuracy: 0.4947\n",
      "Epoch 25/30\n",
      "641/641 [==============================] - 30s 46ms/step - loss: 0.6931 - accuracy: 0.5065 - val_loss: 0.6934 - val_accuracy: 0.4947\n",
      "Epoch 26/30\n",
      "641/641 [==============================] - 30s 46ms/step - loss: 0.6931 - accuracy: 0.5076 - val_loss: 0.6934 - val_accuracy: 0.4947\n",
      "Epoch 27/30\n",
      "641/641 [==============================] - 30s 46ms/step - loss: 0.6931 - accuracy: 0.5077 - val_loss: 0.6934 - val_accuracy: 0.4947\n",
      "Epoch 28/30\n",
      "641/641 [==============================] - 30s 47ms/step - loss: 0.6931 - accuracy: 0.5068 - val_loss: 0.6935 - val_accuracy: 0.4947\n",
      "Epoch 29/30\n",
      "641/641 [==============================] - 31s 48ms/step - loss: 0.6931 - accuracy: 0.5076 - val_loss: 0.6935 - val_accuracy: 0.4947\n",
      "Epoch 30/30\n",
      "641/641 [==============================] - 31s 48ms/step - loss: 0.6931 - accuracy: 0.5076 - val_loss: 0.6936 - val_accuracy: 0.4947\n"
     ]
    },
    {
     "data": {
      "text/plain": [
       "<keras.src.callbacks.History at 0x7a943a4e3280>"
      ]
     },
     "execution_count": 13,
     "metadata": {},
     "output_type": "execute_result"
    }
   ],
   "source": [
    "rnn_model = Sequential()\n",
    "rnn_model.add(Embedding(input_dim=5000,output_dim=64,input_length=100))\n",
    "rnn_model.add(LSTM(64))\n",
    "rnn_model.add(Dense(1,activation='sigmoid')) #since it is a binary classification\n",
    "rnn_model.compile(optimizer='adam', loss='binary_crossentropy', metrics=['accuracy'])\n",
    "rnn_model.summary()\n",
    "rnn_model.fit(X_train, y_train, epochs=30, batch_size=32, validation_split=0.1)\n"
   ]
  },
  {
   "cell_type": "code",
   "execution_count": 14,
   "id": "3d961b64",
   "metadata": {
    "execution": {
     "iopub.execute_input": "2024-01-10T03:43:16.998100Z",
     "iopub.status.busy": "2024-01-10T03:43:16.997724Z",
     "iopub.status.idle": "2024-01-10T03:43:19.457942Z",
     "shell.execute_reply": "2024-01-10T03:43:19.456869Z"
    },
    "papermill": {
     "duration": 3.223042,
     "end_time": "2024-01-10T03:43:19.460365",
     "exception": false,
     "start_time": "2024-01-10T03:43:16.237323",
     "status": "completed"
    },
    "tags": []
   },
   "outputs": [
    {
     "name": "stdout",
     "output_type": "stream",
     "text": [
      "178/178 [==============================] - 2s 13ms/step - loss: 0.6932 - accuracy: 0.5049\n"
     ]
    }
   ],
   "source": [
    "test_values = rnn_model.evaluate(X_test,y_test)"
   ]
  },
  {
   "cell_type": "code",
   "execution_count": 15,
   "id": "b09067f1",
   "metadata": {
    "execution": {
     "iopub.execute_input": "2024-01-10T03:43:20.874852Z",
     "iopub.status.busy": "2024-01-10T03:43:20.874085Z",
     "iopub.status.idle": "2024-01-10T03:43:20.878834Z",
     "shell.execute_reply": "2024-01-10T03:43:20.877940Z"
    },
    "papermill": {
     "duration": 0.753066,
     "end_time": "2024-01-10T03:43:20.880485",
     "exception": false,
     "start_time": "2024-01-10T03:43:20.127419",
     "status": "completed"
    },
    "tags": []
   },
   "outputs": [
    {
     "name": "stdout",
     "output_type": "stream",
     "text": [
      "the accuracy on test values: 0.5049174427986145\n"
     ]
    }
   ],
   "source": [
    "print(f'the accuracy on test values: {test_values[1]}')"
   ]
  },
  {
   "cell_type": "code",
   "execution_count": 16,
   "id": "15c680ff",
   "metadata": {
    "execution": {
     "iopub.execute_input": "2024-01-10T03:43:22.306169Z",
     "iopub.status.busy": "2024-01-10T03:43:22.305800Z",
     "iopub.status.idle": "2024-01-10T03:43:22.360101Z",
     "shell.execute_reply": "2024-01-10T03:43:22.358918Z"
    },
    "papermill": {
     "duration": 0.801681,
     "end_time": "2024-01-10T03:43:22.362505",
     "exception": false,
     "start_time": "2024-01-10T03:43:21.560824",
     "status": "completed"
    },
    "tags": []
   },
   "outputs": [],
   "source": [
    "rnn_model.save('rnn_model.keras')"
   ]
  },
  {
   "cell_type": "code",
   "execution_count": null,
   "id": "2ee6923e",
   "metadata": {
    "papermill": {
     "duration": 0.7517,
     "end_time": "2024-01-10T03:43:23.790847",
     "exception": false,
     "start_time": "2024-01-10T03:43:23.039147",
     "status": "completed"
    },
    "tags": []
   },
   "outputs": [],
   "source": []
  }
 ],
 "metadata": {
  "kaggle": {
   "accelerator": "none",
   "dataSources": [
    {
     "datasetId": 4243544,
     "sourceId": 7312902,
     "sourceType": "datasetVersion"
    }
   ],
   "dockerImageVersionId": 30626,
   "isGpuEnabled": false,
   "isInternetEnabled": true,
   "language": "python",
   "sourceType": "notebook"
  },
  "kernelspec": {
   "display_name": "Python 3",
   "language": "python",
   "name": "python3"
  },
  "language_info": {
   "codemirror_mode": {
    "name": "ipython",
    "version": 3
   },
   "file_extension": ".py",
   "mimetype": "text/x-python",
   "name": "python",
   "nbconvert_exporter": "python",
   "pygments_lexer": "ipython3",
   "version": "3.10.12"
  },
  "papermill": {
   "default_parameters": {},
   "duration": 958.940017,
   "end_time": "2024-01-10T03:43:27.237287",
   "environment_variables": {},
   "exception": null,
   "input_path": "__notebook__.ipynb",
   "output_path": "__notebook__.ipynb",
   "parameters": {},
   "start_time": "2024-01-10T03:27:28.297270",
   "version": "2.4.0"
  }
 },
 "nbformat": 4,
 "nbformat_minor": 5
}
