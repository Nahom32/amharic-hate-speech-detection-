{
 "cells": [
  {
   "cell_type": "code",
   "execution_count": 1,
   "id": "da0a1234",
   "metadata": {
    "_cell_guid": "b1076dfc-b9ad-4769-8c92-a6c4dae69d19",
    "_uuid": "8f2839f25d086af736a60e9eeb907d3b93b6e0e5",
    "execution": {
     "iopub.execute_input": "2024-01-08T17:05:50.840205Z",
     "iopub.status.busy": "2024-01-08T17:05:50.839738Z",
     "iopub.status.idle": "2024-01-08T17:05:51.725194Z",
     "shell.execute_reply": "2024-01-08T17:05:51.723891Z"
    },
    "papermill": {
     "duration": 0.893311,
     "end_time": "2024-01-08T17:05:51.727661",
     "exception": false,
     "start_time": "2024-01-08T17:05:50.834350",
     "status": "completed"
    },
    "tags": []
   },
   "outputs": [
    {
     "name": "stdout",
     "output_type": "stream",
     "text": [
      "/kaggle/input/hate-speech-dataset-amharic/Posts.txt\n",
      "/kaggle/input/hate-speech-dataset-amharic/Labels.txt\n"
     ]
    }
   ],
   "source": [
    "# This Python 3 environment comes with many helpful analytics libraries installed\n",
    "# It is defined by the kaggle/python Docker image: https://github.com/kaggle/docker-python\n",
    "# For example, here's several helpful packages to load\n",
    "\n",
    "import numpy as np # linear algebra\n",
    "import pandas as pd # data processing, CSV file I/O (e.g. pd.read_csv)\n",
    "\n",
    "# Input data files are available in the read-only \"../input/\" directory\n",
    "# For example, running this (by clicking run or pressing Shift+Enter) will list all files under the input directory\n",
    "\n",
    "import os\n",
    "for dirname, _, filenames in os.walk('/kaggle/input'):\n",
    "    for filename in filenames:\n",
    "        print(os.path.join(dirname, filename))\n",
    "\n",
    "# You can write up to 20GB to the current directory (/kaggle/working/) that gets preserved as output when you create a version using \"Save & Run All\" \n",
    "# You can also write temporary files to /kaggle/temp/, but they won't be saved outside of the current session"
   ]
  },
  {
   "cell_type": "markdown",
   "id": "d6873df6",
   "metadata": {
    "execution": {
     "iopub.execute_input": "2024-01-08T15:44:28.950406Z",
     "iopub.status.busy": "2024-01-08T15:44:28.949887Z",
     "iopub.status.idle": "2024-01-08T15:44:28.954957Z",
     "shell.execute_reply": "2024-01-08T15:44:28.953626Z",
     "shell.execute_reply.started": "2024-01-08T15:44:28.950357Z"
    },
    "papermill": {
     "duration": 0.002628,
     "end_time": "2024-01-08T17:05:51.733548",
     "exception": false,
     "start_time": "2024-01-08T17:05:51.730920",
     "status": "completed"
    },
    "tags": []
   },
   "source": [
    "## Data Reading Phase"
   ]
  },
  {
   "cell_type": "code",
   "execution_count": 2,
   "id": "5f7183d0",
   "metadata": {
    "execution": {
     "iopub.execute_input": "2024-01-08T17:05:51.741899Z",
     "iopub.status.busy": "2024-01-08T17:05:51.740708Z",
     "iopub.status.idle": "2024-01-08T17:05:52.050923Z",
     "shell.execute_reply": "2024-01-08T17:05:52.049223Z"
    },
    "papermill": {
     "duration": 0.317505,
     "end_time": "2024-01-08T17:05:52.053934",
     "exception": false,
     "start_time": "2024-01-08T17:05:51.736429",
     "status": "completed"
    },
    "tags": []
   },
   "outputs": [
    {
     "name": "stdout",
     "output_type": "stream",
     "text": [
      "30000\n",
      "30000\n",
      "                                                   0\n",
      "0  አስቀድሜ ጥያቄዬ በጨዋነት በውስጥ መስመር እንዲደርስዎ አድርጌ ፍትህን ለ...\n",
      "1   እነዚህን ወሳኝ ጉዳዮችን የሚያስፈፅም አካል እንዲቋቋምና ክትትል እንዲደ...\n",
      "2  የአማራ ህዝብ በአእምሮ ክንፉ ያልበረረበት ጥበብና ፍልስፍና ያልከፈተው የ...\n",
      "3  ከአማራ ህዝብ የሀገሪቱ ዘርፈ ብዙ እውቀት መንጭቶ የሞላበትከሙላቱም በመል...\n",
      "4  ዛሬ በየትኛውም መለኪያ ይሁን መመዘኛ ኢትዮጵያዊነት የሚንፀባረቀው በአማራ...\n",
      "       0\n",
      "0   Free\n",
      "1   Free\n",
      "2  Free \n",
      "3   Free\n",
      "4   Hate\n"
     ]
    }
   ],
   "source": [
    "corpus = pd.read_csv(\"/kaggle/input/hate-speech-dataset-amharic/Posts.txt\",header=None)\n",
    "label = pd.read_csv(\"/kaggle/input/hate-speech-dataset-amharic/Labels.txt\",header=None)\n",
    "label.replace(' Free', 'Free')\n",
    "label.replace('Free ', 'Free')\n",
    "label.replace(' Hate', 'Hate')\n",
    "label.replace('Hate ', 'Hate')\n",
    "\n",
    "\n",
    "\n",
    "\n",
    "\n",
    "print(len(corpus))\n",
    "print(len(label))\n",
    "\n",
    "\n",
    "print(corpus.head())\n",
    "print(label.head())"
   ]
  },
  {
   "cell_type": "code",
   "execution_count": 3,
   "id": "b3ee93dc",
   "metadata": {
    "execution": {
     "iopub.execute_input": "2024-01-08T17:05:52.062620Z",
     "iopub.status.busy": "2024-01-08T17:05:52.061825Z",
     "iopub.status.idle": "2024-01-08T17:05:52.083991Z",
     "shell.execute_reply": "2024-01-08T17:05:52.082764Z"
    },
    "papermill": {
     "duration": 0.030079,
     "end_time": "2024-01-08T17:05:52.087147",
     "exception": false,
     "start_time": "2024-01-08T17:05:52.057068",
     "status": "completed"
    },
    "tags": []
   },
   "outputs": [
    {
     "data": {
      "text/html": [
       "<div>\n",
       "<style scoped>\n",
       "    .dataframe tbody tr th:only-of-type {\n",
       "        vertical-align: middle;\n",
       "    }\n",
       "\n",
       "    .dataframe tbody tr th {\n",
       "        vertical-align: top;\n",
       "    }\n",
       "\n",
       "    .dataframe thead th {\n",
       "        text-align: right;\n",
       "    }\n",
       "</style>\n",
       "<table border=\"1\" class=\"dataframe\">\n",
       "  <thead>\n",
       "    <tr style=\"text-align: right;\">\n",
       "      <th></th>\n",
       "      <th>sentences</th>\n",
       "      <th>labels</th>\n",
       "    </tr>\n",
       "  </thead>\n",
       "  <tbody>\n",
       "    <tr>\n",
       "      <th>0</th>\n",
       "      <td>አስቀድሜ ጥያቄዬ በጨዋነት በውስጥ መስመር እንዲደርስዎ አድርጌ ፍትህን ለ...</td>\n",
       "      <td>Free</td>\n",
       "    </tr>\n",
       "    <tr>\n",
       "      <th>1</th>\n",
       "      <td>እነዚህን ወሳኝ ጉዳዮችን የሚያስፈፅም አካል እንዲቋቋምና ክትትል እንዲደ...</td>\n",
       "      <td>Free</td>\n",
       "    </tr>\n",
       "    <tr>\n",
       "      <th>2</th>\n",
       "      <td>የአማራ ህዝብ በአእምሮ ክንፉ ያልበረረበት ጥበብና ፍልስፍና ያልከፈተው የ...</td>\n",
       "      <td>Free</td>\n",
       "    </tr>\n",
       "    <tr>\n",
       "      <th>3</th>\n",
       "      <td>ከአማራ ህዝብ የሀገሪቱ ዘርፈ ብዙ እውቀት መንጭቶ የሞላበትከሙላቱም በመል...</td>\n",
       "      <td>Free</td>\n",
       "    </tr>\n",
       "    <tr>\n",
       "      <th>4</th>\n",
       "      <td>ዛሬ በየትኛውም መለኪያ ይሁን መመዘኛ ኢትዮጵያዊነት የሚንፀባረቀው በአማራ...</td>\n",
       "      <td>Hate</td>\n",
       "    </tr>\n",
       "  </tbody>\n",
       "</table>\n",
       "</div>"
      ],
      "text/plain": [
       "                                           sentences labels\n",
       "0  አስቀድሜ ጥያቄዬ በጨዋነት በውስጥ መስመር እንዲደርስዎ አድርጌ ፍትህን ለ...   Free\n",
       "1   እነዚህን ወሳኝ ጉዳዮችን የሚያስፈፅም አካል እንዲቋቋምና ክትትል እንዲደ...   Free\n",
       "2  የአማራ ህዝብ በአእምሮ ክንፉ ያልበረረበት ጥበብና ፍልስፍና ያልከፈተው የ...  Free \n",
       "3  ከአማራ ህዝብ የሀገሪቱ ዘርፈ ብዙ እውቀት መንጭቶ የሞላበትከሙላቱም በመል...   Free\n",
       "4  ዛሬ በየትኛውም መለኪያ ይሁን መመዘኛ ኢትዮጵያዊነት የሚንፀባረቀው በአማራ...   Hate"
      ]
     },
     "execution_count": 3,
     "metadata": {},
     "output_type": "execute_result"
    }
   ],
   "source": [
    "merged_table = pd.DataFrame({'sentences': corpus[0], 'labels': label[0]},index = range(len(corpus)))\n",
    "merged_table.head()"
   ]
  },
  {
   "cell_type": "markdown",
   "id": "4d47e7bc",
   "metadata": {
    "papermill": {
     "duration": 0.003171,
     "end_time": "2024-01-08T17:05:52.094174",
     "exception": false,
     "start_time": "2024-01-08T17:05:52.091003",
     "status": "completed"
    },
    "tags": []
   },
   "source": [
    "## Pre- Processing Phase"
   ]
  },
  {
   "cell_type": "code",
   "execution_count": 4,
   "id": "5a75ffca",
   "metadata": {
    "execution": {
     "iopub.execute_input": "2024-01-08T17:05:52.104389Z",
     "iopub.status.busy": "2024-01-08T17:05:52.103135Z",
     "iopub.status.idle": "2024-01-08T17:05:52.218562Z",
     "shell.execute_reply": "2024-01-08T17:05:52.217295Z"
    },
    "papermill": {
     "duration": 0.124832,
     "end_time": "2024-01-08T17:05:52.222321",
     "exception": false,
     "start_time": "2024-01-08T17:05:52.097489",
     "status": "completed"
    },
    "tags": []
   },
   "outputs": [
    {
     "data": {
      "text/html": [
       "<div>\n",
       "<style scoped>\n",
       "    .dataframe tbody tr th:only-of-type {\n",
       "        vertical-align: middle;\n",
       "    }\n",
       "\n",
       "    .dataframe tbody tr th {\n",
       "        vertical-align: top;\n",
       "    }\n",
       "\n",
       "    .dataframe thead th {\n",
       "        text-align: right;\n",
       "    }\n",
       "</style>\n",
       "<table border=\"1\" class=\"dataframe\">\n",
       "  <thead>\n",
       "    <tr style=\"text-align: right;\">\n",
       "      <th></th>\n",
       "      <th>sentences</th>\n",
       "      <th>labels</th>\n",
       "      <th>num_words</th>\n",
       "    </tr>\n",
       "  </thead>\n",
       "  <tbody>\n",
       "    <tr>\n",
       "      <th>0</th>\n",
       "      <td>አስቀድሜ ጥያቄዬ በጨዋነት በውስጥ መስመር እንዲደርስዎ አድርጌ ፍትህን ለ...</td>\n",
       "      <td>Free</td>\n",
       "      <td>63</td>\n",
       "    </tr>\n",
       "    <tr>\n",
       "      <th>1</th>\n",
       "      <td>እነዚህን ወሳኝ ጉዳዮችን የሚያስፈፅም አካል እንዲቋቋምና ክትትል እንዲደ...</td>\n",
       "      <td>Free</td>\n",
       "      <td>10</td>\n",
       "    </tr>\n",
       "    <tr>\n",
       "      <th>2</th>\n",
       "      <td>የአማራ ህዝብ በአእምሮ ክንፉ ያልበረረበት ጥበብና ፍልስፍና ያልከፈተው የ...</td>\n",
       "      <td>Free</td>\n",
       "      <td>19</td>\n",
       "    </tr>\n",
       "    <tr>\n",
       "      <th>3</th>\n",
       "      <td>ከአማራ ህዝብ የሀገሪቱ ዘርፈ ብዙ እውቀት መንጭቶ የሞላበትከሙላቱም በመል...</td>\n",
       "      <td>Free</td>\n",
       "      <td>23</td>\n",
       "    </tr>\n",
       "    <tr>\n",
       "      <th>4</th>\n",
       "      <td>ዛሬ በየትኛውም መለኪያ ይሁን መመዘኛ ኢትዮጵያዊነት የሚንፀባረቀው በአማራ...</td>\n",
       "      <td>Hate</td>\n",
       "      <td>25</td>\n",
       "    </tr>\n",
       "  </tbody>\n",
       "</table>\n",
       "</div>"
      ],
      "text/plain": [
       "                                           sentences labels  num_words\n",
       "0  አስቀድሜ ጥያቄዬ በጨዋነት በውስጥ መስመር እንዲደርስዎ አድርጌ ፍትህን ለ...   Free         63\n",
       "1   እነዚህን ወሳኝ ጉዳዮችን የሚያስፈፅም አካል እንዲቋቋምና ክትትል እንዲደ...   Free         10\n",
       "2  የአማራ ህዝብ በአእምሮ ክንፉ ያልበረረበት ጥበብና ፍልስፍና ያልከፈተው የ...  Free          19\n",
       "3  ከአማራ ህዝብ የሀገሪቱ ዘርፈ ብዙ እውቀት መንጭቶ የሞላበትከሙላቱም በመል...   Free         23\n",
       "4  ዛሬ በየትኛውም መለኪያ ይሁን መመዘኛ ኢትዮጵያዊነት የሚንፀባረቀው በአማራ...   Hate         25"
      ]
     },
     "execution_count": 4,
     "metadata": {},
     "output_type": "execute_result"
    }
   ],
   "source": [
    "## phase one adding num_words for simplicity of calculations\n",
    "merged_table['num_words'] = merged_table['sentences'].apply(lambda x: len(x.split()))\n",
    "merged_table.head()\n"
   ]
  },
  {
   "cell_type": "code",
   "execution_count": 5,
   "id": "66da5083",
   "metadata": {
    "execution": {
     "iopub.execute_input": "2024-01-08T17:05:52.238413Z",
     "iopub.status.busy": "2024-01-08T17:05:52.237123Z",
     "iopub.status.idle": "2024-01-08T17:05:52.260217Z",
     "shell.execute_reply": "2024-01-08T17:05:52.258890Z"
    },
    "papermill": {
     "duration": 0.034811,
     "end_time": "2024-01-08T17:05:52.264323",
     "exception": false,
     "start_time": "2024-01-08T17:05:52.229512",
     "status": "completed"
    },
    "tags": []
   },
   "outputs": [
    {
     "data": {
      "text/plain": [
       "29463"
      ]
     },
     "execution_count": 5,
     "metadata": {},
     "output_type": "execute_result"
    }
   ],
   "source": [
    "# using boolean masking to eliminate one word sentences so that they won't cause errors\n",
    "merged_table = merged_table[merged_table['num_words']> 1]\n",
    "merged_table = merged_table[['sentences','num_words','labels']]\n",
    "len(merged_table)"
   ]
  },
  {
   "cell_type": "code",
   "execution_count": null,
   "id": "b49b39d8",
   "metadata": {
    "papermill": {
     "duration": 0.004878,
     "end_time": "2024-01-08T17:05:52.274495",
     "exception": false,
     "start_time": "2024-01-08T17:05:52.269617",
     "status": "completed"
    },
    "tags": []
   },
   "outputs": [],
   "source": []
  }
 ],
 "metadata": {
  "kaggle": {
   "accelerator": "none",
   "dataSources": [
    {
     "datasetId": 4243544,
     "sourceId": 7312902,
     "sourceType": "datasetVersion"
    }
   ],
   "dockerImageVersionId": 30626,
   "isGpuEnabled": false,
   "isInternetEnabled": true,
   "language": "python",
   "sourceType": "notebook"
  },
  "kernelspec": {
   "display_name": "Python 3",
   "language": "python",
   "name": "python3"
  },
  "language_info": {
   "codemirror_mode": {
    "name": "ipython",
    "version": 3
   },
   "file_extension": ".py",
   "mimetype": "text/x-python",
   "name": "python",
   "nbconvert_exporter": "python",
   "pygments_lexer": "ipython3",
   "version": "3.10.12"
  },
  "papermill": {
   "default_parameters": {},
   "duration": 6.470001,
   "end_time": "2024-01-08T17:05:52.800110",
   "environment_variables": {},
   "exception": null,
   "input_path": "__notebook__.ipynb",
   "output_path": "__notebook__.ipynb",
   "parameters": {},
   "start_time": "2024-01-08T17:05:46.330109",
   "version": "2.4.0"
  }
 },
 "nbformat": 4,
 "nbformat_minor": 5
}
